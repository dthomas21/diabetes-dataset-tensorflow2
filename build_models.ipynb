{
 "cells": [
  {
   "cell_type": "code",
   "execution_count": 1,
   "metadata": {
    "ExecuteTime": {
     "end_time": "2021-02-04T06:37:49.871997Z",
     "start_time": "2021-02-04T06:37:45.768325Z"
    }
   },
   "outputs": [
    {
     "name": "stdout",
     "output_type": "stream",
     "text": [
      "tensorflow version: 2.4.1\n"
     ]
    }
   ],
   "source": [
    "import tensorflow as tf\n",
    "from tensorflow.keras.models import Sequential\n",
    "from tensorflow.keras.layers import Dense, Dropout\n",
    "from tensorflow.keras import regularizers\n",
    "\n",
    "from sklearn.datasets import load_diabetes\n",
    "from sklearn.model_selection import train_test_split\n",
    "\n",
    "import matplotlib.pyplot as plt\n",
    "\n",
    "print(f'tensorflow version: {tf.__version__}')"
   ]
  },
  {
   "cell_type": "markdown",
   "metadata": {},
   "source": [
    "### The diabetes dataset uses data from 442 diabetic patients with variables such as age, sex, bmi, blood pressure, and six blood serum measurements - all of which have been mean centered (labeled as 'data' below). The target variable is the quantitative measure of the disease progression one year after the baseline measurements"
   ]
  },
  {
   "cell_type": "code",
   "execution_count": 2,
   "metadata": {
    "ExecuteTime": {
     "end_time": "2021-02-04T06:37:49.889004Z",
     "start_time": "2021-02-04T06:37:49.873861Z"
    }
   },
   "outputs": [],
   "source": [
    "# load/prepare data\n",
    "\n",
    "diabetes_dataset = load_diabetes()\n",
    "\n",
    "data = diabetes_dataset['data']\n",
    "targets = diabetes_dataset['target']\n",
    "# normalize target data to improve training curves\n",
    "targets = (targets - targets.mean(axis=0)) / targets.std()\n",
    "\n",
    "train_data, test_data, train_targets, test_targets = train_test_split(data, targets, test_size=.1)"
   ]
  },
  {
   "cell_type": "markdown",
   "metadata": {},
   "source": [
    "### Two models are built below, first one without regularization techniques, and second with regularization to show the difference in model performance"
   ]
  },
  {
   "cell_type": "markdown",
   "metadata": {},
   "source": [
    "## No regularization"
   ]
  },
  {
   "cell_type": "code",
   "execution_count": 3,
   "metadata": {
    "ExecuteTime": {
     "end_time": "2021-02-04T06:37:49.895041Z",
     "start_time": "2021-02-04T06:37:49.890760Z"
    }
   },
   "outputs": [],
   "source": [
    "def build_plain_model():\n",
    "    model = Sequential([\n",
    "        Dense(128, activation='relu', input_shape=(train_data.shape[1],)),\n",
    "        Dense(128, activation='relu'),\n",
    "        Dense(128, activation='relu'),\n",
    "        Dense(128, activation='relu'),\n",
    "        Dense(128, activation='relu'),\n",
    "        Dense(128, activation='relu'),\n",
    "        Dense(1)\n",
    "    ])\n",
    "    return model"
   ]
  },
  {
   "cell_type": "code",
   "execution_count": 4,
   "metadata": {
    "ExecuteTime": {
     "end_time": "2021-02-04T06:37:55.111977Z",
     "start_time": "2021-02-04T06:37:49.897225Z"
    }
   },
   "outputs": [],
   "source": [
    "plain_model = build_plain_model()\n",
    "\n",
    "# compile and build model with validation portion\n",
    "plain_model.compile(optimizer='adam', loss='mse', metrics=['mae'])\n",
    "\n",
    "history_plain = plain_model.fit(train_data, train_targets, epochs=100, validation_split=.15,\n",
    "                                batch_size=64, verbose=False)"
   ]
  },
  {
   "cell_type": "code",
   "execution_count": 5,
   "metadata": {
    "ExecuteTime": {
     "end_time": "2021-02-04T06:37:55.206430Z",
     "start_time": "2021-02-04T06:37:55.113657Z"
    }
   },
   "outputs": [
    {
     "name": "stdout",
     "output_type": "stream",
     "text": [
      "2/2 - 0s - loss: 0.6227 - mae: 0.6243\n"
     ]
    },
    {
     "data": {
      "text/plain": [
       "[0.6226579546928406, 0.6243478059768677]"
      ]
     },
     "execution_count": 5,
     "metadata": {},
     "output_type": "execute_result"
    }
   ],
   "source": [
    "plain_model.evaluate(test_data, test_targets, verbose=2)"
   ]
  },
  {
   "cell_type": "markdown",
   "metadata": {},
   "source": [
    "### Our training loss is improving after each epoch, while our validation loss is increasing - aka this model is massively overfitting!"
   ]
  },
  {
   "cell_type": "code",
   "execution_count": 6,
   "metadata": {
    "ExecuteTime": {
     "end_time": "2021-02-04T06:37:55.363407Z",
     "start_time": "2021-02-04T06:37:55.209971Z"
    }
   },
   "outputs": [
    {
     "data": {
      "image/png": "[encoded data removed]",
      "text/plain": [
       "<Figure size 432x288 with 1 Axes>"
      ]
     },
     "metadata": {},
     "output_type": "display_data"
    }
   ],
   "source": [
    "plt.plot(history_plain.history['loss'])\n",
    "plt.plot(history_plain.history['val_loss'])\n",
    "plt.title('Loss vs. epochs - plain model')\n",
    "plt.ylabel('Loss')\n",
    "plt.xlabel('Epoch')\n",
    "plt.legend(['Training', 'Validation'], loc='upper right')\n",
    "plt.show()"
   ]
  },
  {
   "cell_type": "markdown",
   "metadata": {},
   "source": [
    "### Regularization - introducing dropout, weight decay, and earlystopping - bang!\n",
    "- dropout: sets input units to 0 at a frequency of the dropout_out rate, which means eaach weight connection between dense layers is set to 0 with probability of dropout_rate\n",
    "- weight decay ('l2 regularization'):  used to constrain a neural network's connection weights\n",
    "- early stopping: stops training as soon as performance worsens n number of times (patience paramater) consecutively from one epoch to the next. "
   ]
  },
  {
   "cell_type": "code",
   "execution_count": 7,
   "metadata": {
    "ExecuteTime": {
     "end_time": "2021-02-04T06:37:55.376036Z",
     "start_time": "2021-02-04T06:37:55.366120Z"
    }
   },
   "outputs": [],
   "source": [
    "# same model as before, but with the updated techniques above\n",
    "\n",
    "def build_regularized_model(weight_decay, dropout_rate):\n",
    "    model = Sequential([\n",
    "        Dense(128, kernel_regularizer=regularizers.l2(weight_decay), activation='relu', \n",
    "              input_shape=(train_data.shape[1],)),\n",
    "        Dropout(dropout_rate),\n",
    "        Dense(128, kernel_regularizer=regularizers.l2(weight_decay), activation=\"relu\"),\n",
    "        Dropout(dropout_rate),\n",
    "        Dense(128, kernel_regularizer=regularizers.l2(weight_decay), activation=\"relu\"),\n",
    "        Dropout(dropout_rate),\n",
    "        Dense(128, kernel_regularizer=regularizers.l2(weight_decay), activation=\"relu\"),\n",
    "        Dropout(dropout_rate),\n",
    "        Dense(128, kernel_regularizer=regularizers.l2(weight_decay), activation=\"relu\"),\n",
    "        Dropout(dropout_rate),\n",
    "        Dense(128, kernel_regularizer=regularizers.l2(weight_decay), activation=\"relu\"),\n",
    "        Dropout(dropout_rate),\n",
    "        Dense(1)\n",
    "    ])\n",
    "    \n",
    "    return model"
   ]
  },
  {
   "cell_type": "code",
   "execution_count": 8,
   "metadata": {
    "ExecuteTime": {
     "end_time": "2021-02-04T06:37:57.630543Z",
     "start_time": "2021-02-04T06:37:55.378674Z"
    }
   },
   "outputs": [],
   "source": [
    "reg_model = build_regularized_model(weight_decay=1e-8, dropout_rate=.2)\n",
    "reg_model.compile(optimizer='adam', loss='mse', metrics=['mae'])\n",
    "\n",
    "history_reg = reg_model.fit(train_data, train_targets, epochs=100, validation_split=.15, \n",
    "                           batch_size=64, verbose=False,\n",
    "                           callbacks=[tf.keras.callbacks.EarlyStopping(patience=20)])"
   ]
  },
  {
   "cell_type": "code",
   "execution_count": 9,
   "metadata": {
    "ExecuteTime": {
     "end_time": "2021-02-04T06:37:57.718498Z",
     "start_time": "2021-02-04T06:37:57.632253Z"
    }
   },
   "outputs": [
    {
     "name": "stdout",
     "output_type": "stream",
     "text": [
      "2/2 - 0s - loss: 0.4487 - mae: 0.5338\n"
     ]
    },
    {
     "data": {
      "text/plain": [
       "[0.4486682116985321, 0.5338379144668579]"
      ]
     },
     "execution_count": 9,
     "metadata": {},
     "output_type": "execute_result"
    }
   ],
   "source": [
    "reg_model.evaluate(test_data, test_targets, verbose=2)"
   ]
  },
  {
   "cell_type": "markdown",
   "metadata": {
    "ExecuteTime": {
     "end_time": "2021-02-04T06:37:07.646087Z",
     "start_time": "2021-02-04T06:37:07.642475Z"
    }
   },
   "source": [
    "### Much better, in less epochs!"
   ]
  },
  {
   "cell_type": "code",
   "execution_count": 10,
   "metadata": {
    "ExecuteTime": {
     "end_time": "2021-02-04T06:37:57.861164Z",
     "start_time": "2021-02-04T06:37:57.722282Z"
    }
   },
   "outputs": [
    {
     "data": {
      "image/png": "[encoded data removed]",
      "text/plain": [
       "<Figure size 432x288 with 1 Axes>"
      ]
     },
     "metadata": {},
     "output_type": "display_data"
    }
   ],
   "source": [
    "plt.plot(history_reg.history['loss'])\n",
    "plt.plot(history_reg.history['val_loss'])\n",
    "plt.title('Loss vs. epochs - regularized model')\n",
    "plt.ylabel('Loss')\n",
    "plt.xlabel('Epoch')\n",
    "plt.legend(['Training', 'Validation'], loc='upper right')\n",
    "plt.show()"
   ]
  },
  {
   "cell_type": "markdown",
   "metadata": {},
   "source": [
    "Can run more epochs to improve performance - this is to demonstrate three regularization techniques and the effect it can have on performance"
   ]
  },
  {
   "cell_type": "code",
   "execution_count": null,
   "metadata": {},
   "outputs": [],
   "source": []
  }
 ],
 "metadata": {
  "kernelspec": {
   "display_name": "Python 3",
   "language": "python",
   "name": "python3"
  },
  "language_info": {
   "codemirror_mode": {
    "name": "ipython",
    "version": 3
   },
   "file_extension": ".py",
   "mimetype": "text/x-python",
   "name": "python",
   "nbconvert_exporter": "python",
   "pygments_lexer": "ipython3",
   "version": "3.6.5"
  }
 },
 "nbformat": 4,
 "nbformat_minor": 2
}
